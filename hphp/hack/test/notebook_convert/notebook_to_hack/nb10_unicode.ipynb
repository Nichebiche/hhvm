{
  "cells": [
    {
      "cell_type": "markdown",
      "metadata": {},
      "source": [
        "## Markdown cell (cell 3)\n",
        "\n",
        "I am a *markdown* **cell with unicode: \u2013**"
      ]
    }
  ],
  "metadata": {
    "fileHeader": "",
    "fileUid": "ec019db1-69fc-45b0-91c3-d83757f2e16a",
    "isAdHoc": false,
    "kernelspec": {
      "display_name": "hack",
      "language": "hack",
      "name": "bento_kernel_hack"
    },
    "orig_nbformat": 4
  }
}
